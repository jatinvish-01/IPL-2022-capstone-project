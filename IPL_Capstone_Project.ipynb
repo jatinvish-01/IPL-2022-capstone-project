{
 "cells": [
  {
   "cell_type": "markdown",
   "id": "20ddbce6-8ca0-4846-8903-f3c42a0f07af",
   "metadata": {},
   "source": [
    "### IPL 2022 Capstone Project"
   ]
  },
  {
   "cell_type": "markdown",
   "id": "894aafbc-4081-4584-9f05-8f1a9d6ca082",
   "metadata": {},
   "source": [
    "**The Indian Premier League (IPL) is a professional T20 cricket league in India, featuring franchises representing cities. This project explores IPL 2022 match-level data to derive meaningful insights and understand match outcomes, player performances, and team dynamics.**"
   ]
  },
  {
   "cell_type": "markdown",
   "id": "912338f7-2478-4b1a-8421-b8305fbf8ecc",
   "metadata": {},
   "source": [
    "**These are some of the important columns that we'll focus on for meaningful insights in this project.**\n",
    "\n",
    "**column names: Variable Type**\n",
    "* date : string  \n",
    "* venue : string  \n",
    "* stage : string  \n",
    "* team1 : string  \n",
    "* team2 : string  \n",
    "* toss_winner : string  \n",
    "* toss_decision : string  \n",
    "* first_ings_score : integer  \n",
    "* second_ings_score : integer  \n",
    "* match_winner : string  \n",
    "* won_by : string  \n",
    "* margin : integer  \n",
    "* player_of_the_match : string  \n",
    "* top_scorer : string  \n",
    "* highscore : integer  \n",
    "* best_bowling : string  \n",
    "* best_bowling_fgure : string  \n",
    "gure : string  \n"
   ]
  },
  {
   "cell_type": "markdown",
   "id": "460f0d67-bb6a-41b6-bba7-899b6d324bd7",
   "metadata": {},
   "source": [
    "### Loading the Libraries and Dataset"
   ]
  },
  {
   "cell_type": "code",
   "execution_count": 1,
   "id": "9edc7567-369a-4405-a80a-846291278fe2",
   "metadata": {},
   "outputs": [],
   "source": [
    "import numpy as np \n",
    "import pandas as pd \n",
    "import seaborn as sns \n",
    "import matplotlib.pyplot as plt \n",
    "from plotly.offline import iplot\n",
    "import warnings\n",
    "warnings.filterwarnings('ignore')"
   ]
  },
  {
   "cell_type": "code",
   "execution_count": 2,
   "id": "0af8f199-6f40-47ba-accf-04e67396bf39",
   "metadata": {},
   "outputs": [
    {
     "data": {
      "text/html": [
       "<div>\n",
       "<style scoped>\n",
       "    .dataframe tbody tr th:only-of-type {\n",
       "        vertical-align: middle;\n",
       "    }\n",
       "\n",
       "    .dataframe tbody tr th {\n",
       "        vertical-align: top;\n",
       "    }\n",
       "\n",
       "    .dataframe thead th {\n",
       "        text-align: right;\n",
       "    }\n",
       "</style>\n",
       "<table border=\"1\" class=\"dataframe\">\n",
       "  <thead>\n",
       "    <tr style=\"text-align: right;\">\n",
       "      <th></th>\n",
       "      <th>match_id</th>\n",
       "      <th>date</th>\n",
       "      <th>venue</th>\n",
       "      <th>team1</th>\n",
       "      <th>team2</th>\n",
       "      <th>stage</th>\n",
       "      <th>toss_winner</th>\n",
       "      <th>toss_decision</th>\n",
       "      <th>first_ings_score</th>\n",
       "      <th>first_ings_wkts</th>\n",
       "      <th>second_ings_score</th>\n",
       "      <th>second_ings_wkts</th>\n",
       "      <th>match_winner</th>\n",
       "      <th>won_by</th>\n",
       "      <th>margin</th>\n",
       "      <th>player_of_the_match</th>\n",
       "      <th>top_scorer</th>\n",
       "      <th>highscore</th>\n",
       "      <th>best_bowling</th>\n",
       "      <th>best_bowling_figure</th>\n",
       "    </tr>\n",
       "  </thead>\n",
       "  <tbody>\n",
       "    <tr>\n",
       "      <th>0</th>\n",
       "      <td>1</td>\n",
       "      <td>March 26,2022</td>\n",
       "      <td>Wankhede Stadium, Mumbai</td>\n",
       "      <td>Chennai</td>\n",
       "      <td>Kolkata</td>\n",
       "      <td>Group</td>\n",
       "      <td>Kolkata</td>\n",
       "      <td>Field</td>\n",
       "      <td>131</td>\n",
       "      <td>5</td>\n",
       "      <td>133</td>\n",
       "      <td>4</td>\n",
       "      <td>Kolkata</td>\n",
       "      <td>Wickets</td>\n",
       "      <td>6</td>\n",
       "      <td>Umesh Yadav</td>\n",
       "      <td>MS Dhoni</td>\n",
       "      <td>50</td>\n",
       "      <td>Dwayne Bravo</td>\n",
       "      <td>3--20</td>\n",
       "    </tr>\n",
       "    <tr>\n",
       "      <th>1</th>\n",
       "      <td>2</td>\n",
       "      <td>March 27,2022</td>\n",
       "      <td>Brabourne Stadium, Mumbai</td>\n",
       "      <td>Delhi</td>\n",
       "      <td>Mumbai</td>\n",
       "      <td>Group</td>\n",
       "      <td>Delhi</td>\n",
       "      <td>Field</td>\n",
       "      <td>177</td>\n",
       "      <td>5</td>\n",
       "      <td>179</td>\n",
       "      <td>6</td>\n",
       "      <td>Delhi</td>\n",
       "      <td>Wickets</td>\n",
       "      <td>4</td>\n",
       "      <td>Kuldeep Yadav</td>\n",
       "      <td>Ishan Kishan</td>\n",
       "      <td>81</td>\n",
       "      <td>Kuldeep Yadav</td>\n",
       "      <td>3--18</td>\n",
       "    </tr>\n",
       "    <tr>\n",
       "      <th>2</th>\n",
       "      <td>3</td>\n",
       "      <td>March 27,2022</td>\n",
       "      <td>Dr DY Patil Sports Academy, Mumbai</td>\n",
       "      <td>Banglore</td>\n",
       "      <td>Punjab</td>\n",
       "      <td>Group</td>\n",
       "      <td>Punjab</td>\n",
       "      <td>Field</td>\n",
       "      <td>205</td>\n",
       "      <td>2</td>\n",
       "      <td>208</td>\n",
       "      <td>5</td>\n",
       "      <td>Punjab</td>\n",
       "      <td>Wickets</td>\n",
       "      <td>5</td>\n",
       "      <td>Odean Smith</td>\n",
       "      <td>Faf du Plessis</td>\n",
       "      <td>88</td>\n",
       "      <td>Mohammed Siraj</td>\n",
       "      <td>2--59</td>\n",
       "    </tr>\n",
       "    <tr>\n",
       "      <th>3</th>\n",
       "      <td>4</td>\n",
       "      <td>March 28,2022</td>\n",
       "      <td>Wankhede Stadium, Mumbai</td>\n",
       "      <td>Gujarat</td>\n",
       "      <td>Lucknow</td>\n",
       "      <td>Group</td>\n",
       "      <td>Gujarat</td>\n",
       "      <td>Field</td>\n",
       "      <td>158</td>\n",
       "      <td>6</td>\n",
       "      <td>161</td>\n",
       "      <td>5</td>\n",
       "      <td>Gujarat</td>\n",
       "      <td>Wickets</td>\n",
       "      <td>5</td>\n",
       "      <td>Mohammed Shami</td>\n",
       "      <td>Deepak Hooda</td>\n",
       "      <td>55</td>\n",
       "      <td>Mohammed Shami</td>\n",
       "      <td>3--25</td>\n",
       "    </tr>\n",
       "    <tr>\n",
       "      <th>4</th>\n",
       "      <td>5</td>\n",
       "      <td>March 29,2022</td>\n",
       "      <td>Maharashtra Cricket Association Stadium,Pune</td>\n",
       "      <td>Hyderabad</td>\n",
       "      <td>Rajasthan</td>\n",
       "      <td>Group</td>\n",
       "      <td>Hyderabad</td>\n",
       "      <td>Field</td>\n",
       "      <td>210</td>\n",
       "      <td>6</td>\n",
       "      <td>149</td>\n",
       "      <td>7</td>\n",
       "      <td>Rajasthan</td>\n",
       "      <td>Runs</td>\n",
       "      <td>61</td>\n",
       "      <td>Sanju Samson</td>\n",
       "      <td>Aiden Markram</td>\n",
       "      <td>57</td>\n",
       "      <td>Yuzvendra Chahal</td>\n",
       "      <td>3--22</td>\n",
       "    </tr>\n",
       "  </tbody>\n",
       "</table>\n",
       "</div>"
      ],
      "text/plain": [
       "   match_id           date                                         venue  \\\n",
       "0         1  March 26,2022                      Wankhede Stadium, Mumbai   \n",
       "1         2  March 27,2022                     Brabourne Stadium, Mumbai   \n",
       "2         3  March 27,2022            Dr DY Patil Sports Academy, Mumbai   \n",
       "3         4  March 28,2022                      Wankhede Stadium, Mumbai   \n",
       "4         5  March 29,2022  Maharashtra Cricket Association Stadium,Pune   \n",
       "\n",
       "       team1      team2  stage toss_winner toss_decision  first_ings_score  \\\n",
       "0    Chennai    Kolkata  Group     Kolkata         Field               131   \n",
       "1      Delhi     Mumbai  Group       Delhi         Field               177   \n",
       "2   Banglore     Punjab  Group      Punjab         Field               205   \n",
       "3    Gujarat    Lucknow  Group     Gujarat         Field               158   \n",
       "4  Hyderabad  Rajasthan  Group   Hyderabad         Field               210   \n",
       "\n",
       "   first_ings_wkts  second_ings_score  second_ings_wkts match_winner   won_by  \\\n",
       "0                5                133                 4      Kolkata  Wickets   \n",
       "1                5                179                 6        Delhi  Wickets   \n",
       "2                2                208                 5       Punjab  Wickets   \n",
       "3                6                161                 5      Gujarat  Wickets   \n",
       "4                6                149                 7    Rajasthan     Runs   \n",
       "\n",
       "   margin player_of_the_match      top_scorer  highscore      best_bowling  \\\n",
       "0       6         Umesh Yadav        MS Dhoni         50      Dwayne Bravo   \n",
       "1       4       Kuldeep Yadav    Ishan Kishan         81     Kuldeep Yadav   \n",
       "2       5         Odean Smith  Faf du Plessis         88    Mohammed Siraj   \n",
       "3       5      Mohammed Shami    Deepak Hooda         55    Mohammed Shami   \n",
       "4      61        Sanju Samson   Aiden Markram         57  Yuzvendra Chahal   \n",
       "\n",
       "  best_bowling_figure  \n",
       "0               3--20  \n",
       "1               3--18  \n",
       "2               2--59  \n",
       "3               3--25  \n",
       "4               3--22  "
      ]
     },
     "execution_count": 2,
     "metadata": {},
     "output_type": "execute_result"
    }
   ],
   "source": [
    "df = pd.read_csv('IPL.csv')\n",
    "df.head()"
   ]
  },
  {
   "cell_type": "markdown",
   "id": "761027b0-490c-47d7-bae8-3b73e95d36e9",
   "metadata": {},
   "source": [
    "### Basic Information"
   ]
  },
  {
   "cell_type": "code",
   "execution_count": 3,
   "id": "b6d0c558-47b3-4d36-bb38-311235c2c784",
   "metadata": {},
   "outputs": [
    {
     "name": "stdout",
     "output_type": "stream",
     "text": [
      "<class 'pandas.core.frame.DataFrame'>\n",
      "RangeIndex: 74 entries, 0 to 73\n",
      "Data columns (total 20 columns):\n",
      " #   Column               Non-Null Count  Dtype \n",
      "---  ------               --------------  ----- \n",
      " 0   match_id             74 non-null     int64 \n",
      " 1   date                 74 non-null     object\n",
      " 2   venue                74 non-null     object\n",
      " 3   team1                74 non-null     object\n",
      " 4   team2                74 non-null     object\n",
      " 5   stage                74 non-null     object\n",
      " 6   toss_winner          74 non-null     object\n",
      " 7   toss_decision        74 non-null     object\n",
      " 8   first_ings_score     74 non-null     int64 \n",
      " 9   first_ings_wkts      74 non-null     int64 \n",
      " 10  second_ings_score    74 non-null     int64 \n",
      " 11  second_ings_wkts     74 non-null     int64 \n",
      " 12  match_winner         74 non-null     object\n",
      " 13  won_by               74 non-null     object\n",
      " 14  margin               74 non-null     int64 \n",
      " 15  player_of_the_match  74 non-null     object\n",
      " 16  top_scorer           74 non-null     object\n",
      " 17  highscore            74 non-null     int64 \n",
      " 18  best_bowling         74 non-null     object\n",
      " 19  best_bowling_figure  74 non-null     object\n",
      "dtypes: int64(7), object(13)\n",
      "memory usage: 11.7+ KB\n"
     ]
    }
   ],
   "source": [
    "df.info()"
   ]
  },
  {
   "cell_type": "markdown",
   "id": "d717c591-238a-43eb-88f2-cf2ec966edb0",
   "metadata": {},
   "source": [
    "Check the size of rows and columns of the dataset"
   ]
  },
  {
   "cell_type": "code",
   "execution_count": 4,
   "id": "0eb3785b-8ce8-4205-b381-1d868f0a8983",
   "metadata": {},
   "outputs": [
    {
     "name": "stdout",
     "output_type": "stream",
     "text": [
      "Your rows are 74, and your columns are 20 \n"
     ]
    }
   ],
   "source": [
    "print(f\"Your rows are {df.shape[0]}, and your columns are {df.shape[1]} \")"
   ]
  },
  {
   "cell_type": "markdown",
   "id": "71728207-924f-4024-a0ad-3e61591d5d0a",
   "metadata": {},
   "source": [
    "Now let's see how many columns have null values in total."
   ]
  },
  {
   "cell_type": "code",
   "execution_count": 5,
   "id": "b64f2f03-5c60-4654-b0e1-9ddf8542c218",
   "metadata": {},
   "outputs": [
    {
     "data": {
      "text/plain": [
       "match_id               0\n",
       "date                   0\n",
       "venue                  0\n",
       "team1                  0\n",
       "team2                  0\n",
       "stage                  0\n",
       "toss_winner            0\n",
       "toss_decision          0\n",
       "first_ings_score       0\n",
       "first_ings_wkts        0\n",
       "second_ings_score      0\n",
       "second_ings_wkts       0\n",
       "match_winner           0\n",
       "won_by                 0\n",
       "margin                 0\n",
       "player_of_the_match    0\n",
       "top_scorer             0\n",
       "highscore              0\n",
       "best_bowling           0\n",
       "best_bowling_figure    0\n",
       "dtype: int64"
      ]
     },
     "execution_count": 5,
     "metadata": {},
     "output_type": "execute_result"
    }
   ],
   "source": [
    "df.isnull().sum()"
   ]
  },
  {
   "cell_type": "markdown",
   "id": "552e17c7-7dc8-4caf-a583-0c06e7415fa1",
   "metadata": {},
   "source": [
    "**Now, Here comes some Basic Questions**"
   ]
  },
  {
   "cell_type": "markdown",
   "id": "80396e96-8356-4dba-9f1b-7907d333d750",
   "metadata": {},
   "source": [
    "1. Which team won the most matches?"
   ]
  },
  {
   "cell_type": "code",
   "execution_count": 6,
   "id": "53ff2191-7738-415f-a83c-e22c4ab878b9",
   "metadata": {},
   "outputs": [
    {
     "data": {
      "text/plain": [
       "Text(0, 0.5, 'Team winner name')"
      ]
     },
     "execution_count": 6,
     "metadata": {},
     "output_type": "execute_result"
    },
    {
     "data": {
      "image/png": "[encoded data removed]",
      "text/plain": [
       "<Figure size 640x480 with 1 Axes>"
      ]
     },
     "metadata": {},
     "output_type": "display_data"
    }
   ],
   "source": [
    "match_win = df['match_winner'].value_counts()\n",
    "sns.barplot(y = match_win.index, x = match_win.values, palette='viridis')\n",
    "plt.title(\"Most match win by Team\")\n",
    "plt.xlabel(\"Match win by each team\")\n",
    "plt.ylabel(\"Team winner name\")"
   ]
  },
  {
   "cell_type": "markdown",
   "id": "b011bdbf-b57f-4cd2-99fc-ae43109b0f59",
   "metadata": {},
   "source": [
    "2. Toss Decision Trends"
   ]
  },
  {
   "cell_type": "code",
   "execution_count": 7,
   "id": "9e73a24d-cf5f-4c6c-92cb-cde758948ab9",
   "metadata": {},
   "outputs": [
    {
     "data": {
      "text/plain": [
       "<Axes: xlabel='toss_decision', ylabel='count'>"
      ]
     },
     "execution_count": 7,
     "metadata": {},
     "output_type": "execute_result"
    },
    {
     "data": {
      "image/png": "[encoded data removed]",
      "text/plain": [
       "<Figure size 640x480 with 1 Axes>"
      ]
     },
     "metadata": {},
     "output_type": "display_data"
    }
   ],
   "source": [
    "sns.countplot(x = df['toss_decision'], palette='rainbow')"
   ]
  },
  {
   "cell_type": "markdown",
   "id": "07c65194-6e99-4be5-9b53-caa890f0864b",
   "metadata": {},
   "source": [
    "3. Toss Winner vs Match Winner"
   ]
  },
  {
   "cell_type": "code",
   "execution_count": 8,
   "id": "a33d90bb-1af6-4fe6-a065-3f51c97439aa",
   "metadata": {},
   "outputs": [
    {
     "name": "stdout",
     "output_type": "stream",
     "text": [
      "Toss and Match winner are same in 48% of matches\n"
     ]
    }
   ],
   "source": [
    "count = df[df['toss_winner'] == df['match_winner']]['match_id'].count()\n",
    "percentage = (count * 100)//df.shape[0]\n",
    "print(f\"Toss and Match winner are same in {percentage.round(2)}% of matches\")"
   ]
  },
  {
   "cell_type": "markdown",
   "id": "bf63d31e-dcbe-4908-9499-b74d2c9338e7",
   "metadata": {},
   "source": [
    "4. How do teams win? (Runs vs Wickets)"
   ]
  },
  {
   "cell_type": "code",
   "execution_count": 9,
   "id": "fe487b4f-4266-4ad1-89b7-d03a0efd9d21",
   "metadata": {},
   "outputs": [
    {
     "data": {
      "text/plain": [
       "Text(0.5, 1.0, 'Teams won by')"
      ]
     },
     "execution_count": 9,
     "metadata": {},
     "output_type": "execute_result"
    },
    {
     "data": {
      "image/png": "[encoded data removed]",
      "text/plain": [
       "<Figure size 640x480 with 1 Axes>"
      ]
     },
     "metadata": {},
     "output_type": "display_data"
    }
   ],
   "source": [
    "sns.countplot(x = df['won_by'])\n",
    "plt.title(\"Teams won by\")"
   ]
  },
  {
   "cell_type": "markdown",
   "id": "4a5635a5-a7b3-4527-8580-114462ec6b20",
   "metadata": {},
   "source": [
    "###  Key Player Performances"
   ]
  },
  {
   "cell_type": "markdown",
   "id": "03366105-9157-4d50-873c-ee79cb3b85b3",
   "metadata": {},
   "source": [
    "1 Most \"Player of the Match\" Awards"
   ]
  },
  {
   "cell_type": "code",
   "execution_count": 10,
   "id": "034ad7ce-f010-4ab0-b490-5b1f90c11834",
   "metadata": {},
   "outputs": [
    {
     "data": {
      "text/plain": [
       "player_of_the_match\n",
       "Kuldeep Yadav      4\n",
       "Jos Buttler        3\n",
       "Umesh Yadav        2\n",
       "Quinton de Kock    2\n",
       "David Miller       2\n",
       "Umran Malik        2\n",
       "K L Rahul          2\n",
       "Rahul Tripathi     2\n",
       "Hardik Pandya      2\n",
       "Jasprit Bumrah     2\n",
       "Name: count, dtype: int64"
      ]
     },
     "execution_count": 10,
     "metadata": {},
     "output_type": "execute_result"
    }
   ],
   "source": [
    "count = df['player_of_the_match'].value_counts().head(10)\n",
    "count"
   ]
  },
  {
   "cell_type": "code",
   "execution_count": 11,
   "id": "ce562d96-00c2-4fc7-91dc-f73a431029e8",
   "metadata": {},
   "outputs": [
    {
     "data": {
      "text/plain": [
       "Text(0.5, 1.0, 'Top 10 players with man of the match')"
      ]
     },
     "execution_count": 11,
     "metadata": {},
     "output_type": "execute_result"
    },
    {
     "data": {
      "image/png": "[encoded data removed]",
      "text/plain": [
       "<Figure size 640x480 with 1 Axes>"
      ]
     },
     "metadata": {},
     "output_type": "display_data"
    }
   ],
   "source": [
    "sns.barplot(x = count.values, y = count.index, palette='mako')\n",
    "plt.title(\"Top 10 players with man of the match\")"
   ]
  },
  {
   "cell_type": "markdown",
   "id": "6fb8509a-85ac-4193-9876-8a6902461f7b",
   "metadata": {},
   "source": [
    "2 Top Scorers"
   ]
  },
  {
   "cell_type": "code",
   "execution_count": 12,
   "id": "f6f9a798-c26c-46b6-9d98-4c4651c8232f",
   "metadata": {},
   "outputs": [
    {
     "data": {
      "text/plain": [
       "top_scorer\n",
       "Jos Buttler        651\n",
       "Quinton de Kock    377\n",
       "Name: highscore, dtype: int64"
      ]
     },
     "execution_count": 12,
     "metadata": {},
     "output_type": "execute_result"
    }
   ],
   "source": [
    "high = df.groupby('top_scorer')['highscore'].sum().sort_values(ascending=False).head(2)\n",
    "high"
   ]
  },
  {
   "cell_type": "code",
   "execution_count": 13,
   "id": "8a0ef222-ab5e-462a-ba65-f01f25ced131",
   "metadata": {},
   "outputs": [
    {
     "data": {
      "text/plain": [
       "<Axes: ylabel='top_scorer'>"
      ]
     },
     "execution_count": 13,
     "metadata": {},
     "output_type": "execute_result"
    },
    {
     "data": {
      "image/png": "[encoded data removed]",
      "text/plain": [
       "<Figure size 640x480 with 1 Axes>"
      ]
     },
     "metadata": {},
     "output_type": "display_data"
    }
   ],
   "source": [
    "high.plot(kind = 'barh')"
   ]
  },
  {
   "cell_type": "markdown",
   "id": "7e267058-ce05-4bc6-9a7f-2265ab4f4f29",
   "metadata": {},
   "source": [
    "10 Best Bowling Figures"
   ]
  },
  {
   "cell_type": "code",
   "execution_count": 14,
   "id": "556b4c9f-56f3-4496-b6c5-b274ab41c318",
   "metadata": {
    "scrolled": true
   },
   "outputs": [
    {
     "data": {
      "text/html": [
       "<div>\n",
       "<style scoped>\n",
       "    .dataframe tbody tr th:only-of-type {\n",
       "        vertical-align: middle;\n",
       "    }\n",
       "\n",
       "    .dataframe tbody tr th {\n",
       "        vertical-align: top;\n",
       "    }\n",
       "\n",
       "    .dataframe thead th {\n",
       "        text-align: right;\n",
       "    }\n",
       "</style>\n",
       "<table border=\"1\" class=\"dataframe\">\n",
       "  <thead>\n",
       "    <tr style=\"text-align: right;\">\n",
       "      <th></th>\n",
       "      <th>match_id</th>\n",
       "      <th>date</th>\n",
       "      <th>venue</th>\n",
       "      <th>team1</th>\n",
       "      <th>team2</th>\n",
       "      <th>stage</th>\n",
       "      <th>toss_winner</th>\n",
       "      <th>toss_decision</th>\n",
       "      <th>first_ings_score</th>\n",
       "      <th>first_ings_wkts</th>\n",
       "      <th>second_ings_score</th>\n",
       "      <th>second_ings_wkts</th>\n",
       "      <th>match_winner</th>\n",
       "      <th>won_by</th>\n",
       "      <th>margin</th>\n",
       "      <th>player_of_the_match</th>\n",
       "      <th>top_scorer</th>\n",
       "      <th>highscore</th>\n",
       "      <th>best_bowling</th>\n",
       "      <th>best_bowling_figure</th>\n",
       "    </tr>\n",
       "  </thead>\n",
       "  <tbody>\n",
       "    <tr>\n",
       "      <th>0</th>\n",
       "      <td>1</td>\n",
       "      <td>March 26,2022</td>\n",
       "      <td>Wankhede Stadium, Mumbai</td>\n",
       "      <td>Chennai</td>\n",
       "      <td>Kolkata</td>\n",
       "      <td>Group</td>\n",
       "      <td>Kolkata</td>\n",
       "      <td>Field</td>\n",
       "      <td>131</td>\n",
       "      <td>5</td>\n",
       "      <td>133</td>\n",
       "      <td>4</td>\n",
       "      <td>Kolkata</td>\n",
       "      <td>Wickets</td>\n",
       "      <td>6</td>\n",
       "      <td>Umesh Yadav</td>\n",
       "      <td>MS Dhoni</td>\n",
       "      <td>50</td>\n",
       "      <td>Dwayne Bravo</td>\n",
       "      <td>3--20</td>\n",
       "    </tr>\n",
       "    <tr>\n",
       "      <th>1</th>\n",
       "      <td>2</td>\n",
       "      <td>March 27,2022</td>\n",
       "      <td>Brabourne Stadium, Mumbai</td>\n",
       "      <td>Delhi</td>\n",
       "      <td>Mumbai</td>\n",
       "      <td>Group</td>\n",
       "      <td>Delhi</td>\n",
       "      <td>Field</td>\n",
       "      <td>177</td>\n",
       "      <td>5</td>\n",
       "      <td>179</td>\n",
       "      <td>6</td>\n",
       "      <td>Delhi</td>\n",
       "      <td>Wickets</td>\n",
       "      <td>4</td>\n",
       "      <td>Kuldeep Yadav</td>\n",
       "      <td>Ishan Kishan</td>\n",
       "      <td>81</td>\n",
       "      <td>Kuldeep Yadav</td>\n",
       "      <td>3--18</td>\n",
       "    </tr>\n",
       "    <tr>\n",
       "      <th>2</th>\n",
       "      <td>3</td>\n",
       "      <td>March 27,2022</td>\n",
       "      <td>Dr DY Patil Sports Academy, Mumbai</td>\n",
       "      <td>Banglore</td>\n",
       "      <td>Punjab</td>\n",
       "      <td>Group</td>\n",
       "      <td>Punjab</td>\n",
       "      <td>Field</td>\n",
       "      <td>205</td>\n",
       "      <td>2</td>\n",
       "      <td>208</td>\n",
       "      <td>5</td>\n",
       "      <td>Punjab</td>\n",
       "      <td>Wickets</td>\n",
       "      <td>5</td>\n",
       "      <td>Odean Smith</td>\n",
       "      <td>Faf du Plessis</td>\n",
       "      <td>88</td>\n",
       "      <td>Mohammed Siraj</td>\n",
       "      <td>2--59</td>\n",
       "    </tr>\n",
       "    <tr>\n",
       "      <th>3</th>\n",
       "      <td>4</td>\n",
       "      <td>March 28,2022</td>\n",
       "      <td>Wankhede Stadium, Mumbai</td>\n",
       "      <td>Gujarat</td>\n",
       "      <td>Lucknow</td>\n",
       "      <td>Group</td>\n",
       "      <td>Gujarat</td>\n",
       "      <td>Field</td>\n",
       "      <td>158</td>\n",
       "      <td>6</td>\n",
       "      <td>161</td>\n",
       "      <td>5</td>\n",
       "      <td>Gujarat</td>\n",
       "      <td>Wickets</td>\n",
       "      <td>5</td>\n",
       "      <td>Mohammed Shami</td>\n",
       "      <td>Deepak Hooda</td>\n",
       "      <td>55</td>\n",
       "      <td>Mohammed Shami</td>\n",
       "      <td>3--25</td>\n",
       "    </tr>\n",
       "    <tr>\n",
       "      <th>4</th>\n",
       "      <td>5</td>\n",
       "      <td>March 29,2022</td>\n",
       "      <td>Maharashtra Cricket Association Stadium,Pune</td>\n",
       "      <td>Hyderabad</td>\n",
       "      <td>Rajasthan</td>\n",
       "      <td>Group</td>\n",
       "      <td>Hyderabad</td>\n",
       "      <td>Field</td>\n",
       "      <td>210</td>\n",
       "      <td>6</td>\n",
       "      <td>149</td>\n",
       "      <td>7</td>\n",
       "      <td>Rajasthan</td>\n",
       "      <td>Runs</td>\n",
       "      <td>61</td>\n",
       "      <td>Sanju Samson</td>\n",
       "      <td>Aiden Markram</td>\n",
       "      <td>57</td>\n",
       "      <td>Yuzvendra Chahal</td>\n",
       "      <td>3--22</td>\n",
       "    </tr>\n",
       "  </tbody>\n",
       "</table>\n",
       "</div>"
      ],
      "text/plain": [
       "   match_id           date                                         venue  \\\n",
       "0         1  March 26,2022                      Wankhede Stadium, Mumbai   \n",
       "1         2  March 27,2022                     Brabourne Stadium, Mumbai   \n",
       "2         3  March 27,2022            Dr DY Patil Sports Academy, Mumbai   \n",
       "3         4  March 28,2022                      Wankhede Stadium, Mumbai   \n",
       "4         5  March 29,2022  Maharashtra Cricket Association Stadium,Pune   \n",
       "\n",
       "       team1      team2  stage toss_winner toss_decision  first_ings_score  \\\n",
       "0    Chennai    Kolkata  Group     Kolkata         Field               131   \n",
       "1      Delhi     Mumbai  Group       Delhi         Field               177   \n",
       "2   Banglore     Punjab  Group      Punjab         Field               205   \n",
       "3    Gujarat    Lucknow  Group     Gujarat         Field               158   \n",
       "4  Hyderabad  Rajasthan  Group   Hyderabad         Field               210   \n",
       "\n",
       "   first_ings_wkts  second_ings_score  second_ings_wkts match_winner   won_by  \\\n",
       "0                5                133                 4      Kolkata  Wickets   \n",
       "1                5                179                 6        Delhi  Wickets   \n",
       "2                2                208                 5       Punjab  Wickets   \n",
       "3                6                161                 5      Gujarat  Wickets   \n",
       "4                6                149                 7    Rajasthan     Runs   \n",
       "\n",
       "   margin player_of_the_match      top_scorer  highscore      best_bowling  \\\n",
       "0       6         Umesh Yadav        MS Dhoni         50      Dwayne Bravo   \n",
       "1       4       Kuldeep Yadav    Ishan Kishan         81     Kuldeep Yadav   \n",
       "2       5         Odean Smith  Faf du Plessis         88    Mohammed Siraj   \n",
       "3       5      Mohammed Shami    Deepak Hooda         55    Mohammed Shami   \n",
       "4      61        Sanju Samson   Aiden Markram         57  Yuzvendra Chahal   \n",
       "\n",
       "  best_bowling_figure  \n",
       "0               3--20  \n",
       "1               3--18  \n",
       "2               2--59  \n",
       "3               3--25  \n",
       "4               3--22  "
      ]
     },
     "execution_count": 14,
     "metadata": {},
     "output_type": "execute_result"
    }
   ],
   "source": [
    "df.head()"
   ]
  },
  {
   "cell_type": "code",
   "execution_count": 15,
   "id": "112a07ed-9800-4b85-a3dd-5ed2e30d8ebe",
   "metadata": {},
   "outputs": [
    {
     "data": {
      "text/plain": [
       "<Axes: ylabel='best_bowling'>"
      ]
     },
     "execution_count": 15,
     "metadata": {},
     "output_type": "execute_result"
    },
    {
     "data": {
      "image/png": "[encoded data removed]",
      "text/plain": [
       "<Figure size 640x480 with 1 Axes>"
      ]
     },
     "metadata": {},
     "output_type": "display_data"
    }
   ],
   "source": [
    "df['highest_wickets'] = df['best_bowling_figure'].apply(lambda x : x.split('--')[0])\n",
    "df['highest_wickets'] = df['highest_wickets'].astype(int)\n",
    "top_bowlers = df.groupby('best_bowling')['highest_wickets'].sum().sort_values(ascending=False).head(10)\n",
    "top_bowlers.plot(kind = 'barh')"
   ]
  },
  {
   "cell_type": "markdown",
   "id": "f6084e57-0568-4849-8413-220cff2ff8e3",
   "metadata": {},
   "source": [
    "###  Venue Analysis"
   ]
  },
  {
   "cell_type": "markdown",
   "id": "6d4e26f1-2479-4456-bda2-2a639c382d2e",
   "metadata": {},
   "source": [
    "Most Matches Played by Venue"
   ]
  },
  {
   "cell_type": "code",
   "execution_count": 16,
   "id": "07a58ac4-d8ee-4917-a98a-33e85121c893",
   "metadata": {},
   "outputs": [
    {
     "data": {
      "text/plain": [
       "venue\n",
       "Wankhede Stadium, Mumbai                        21\n",
       "Dr DY Patil Sports Academy, Mumbai              20\n",
       "Brabourne Stadium, Mumbai                       16\n",
       "Maharashtra Cricket Association Stadium,Pune    13\n",
       "Eden Gardens, Kolkata                            2\n",
       "Narendra Modi Stadium, Ahmedabad                 2\n",
       "Name: count, dtype: int64"
      ]
     },
     "execution_count": 16,
     "metadata": {},
     "output_type": "execute_result"
    }
   ],
   "source": [
    "venue_count = df['venue'].value_counts()\n",
    "venue_count"
   ]
  },
  {
   "cell_type": "code",
   "execution_count": 17,
   "id": "f427aff8-a677-405e-9224-f9daf1c0044d",
   "metadata": {},
   "outputs": [
    {
     "data": {
      "text/plain": [
       "<Axes: ylabel='venue'>"
      ]
     },
     "execution_count": 17,
     "metadata": {},
     "output_type": "execute_result"
    },
    {
     "data": {
      "image/png": "[encoded data removed]",
      "text/plain": [
       "<Figure size 640x480 with 1 Axes>"
      ]
     },
     "metadata": {},
     "output_type": "display_data"
    }
   ],
   "source": [
    "sns.barplot(y = venue_count.index, x = venue_count.values)"
   ]
  },
  {
   "cell_type": "markdown",
   "id": "9bb61b7c-5810-4d9a-a475-aacd8d403721",
   "metadata": {},
   "source": [
    "### Custom Questions & Insights\n",
    "Q1: Who won the highest margin by runs?"
   ]
  },
  {
   "cell_type": "code",
   "execution_count": 18,
   "id": "98841e09-4523-42fa-890b-d44dd734cae1",
   "metadata": {},
   "outputs": [
    {
     "data": {
      "text/html": [
       "<div>\n",
       "<style scoped>\n",
       "    .dataframe tbody tr th:only-of-type {\n",
       "        vertical-align: middle;\n",
       "    }\n",
       "\n",
       "    .dataframe tbody tr th {\n",
       "        vertical-align: top;\n",
       "    }\n",
       "\n",
       "    .dataframe thead th {\n",
       "        text-align: right;\n",
       "    }\n",
       "</style>\n",
       "<table border=\"1\" class=\"dataframe\">\n",
       "  <thead>\n",
       "    <tr style=\"text-align: right;\">\n",
       "      <th></th>\n",
       "      <th>match_winner</th>\n",
       "      <th>margin</th>\n",
       "    </tr>\n",
       "  </thead>\n",
       "  <tbody>\n",
       "    <tr>\n",
       "      <th>54</th>\n",
       "      <td>Chennai</td>\n",
       "      <td>91</td>\n",
       "    </tr>\n",
       "  </tbody>\n",
       "</table>\n",
       "</div>"
      ],
      "text/plain": [
       "   match_winner  margin\n",
       "54      Chennai      91"
      ]
     },
     "execution_count": 18,
     "metadata": {},
     "output_type": "execute_result"
    }
   ],
   "source": [
    "df[df['won_by'] == 'Runs'].sort_values(by = 'margin', ascending=False).head(1)[['match_winner', 'margin']]"
   ]
  },
  {
   "cell_type": "markdown",
   "id": "071eb3ad-5e4a-4ceb-af04-ba1b4871cd3d",
   "metadata": {},
   "source": [
    "Q2: Which player had the highest individual score?"
   ]
  },
  {
   "cell_type": "code",
   "execution_count": 19,
   "id": "0150db8d-fbcd-432a-8594-0dcff4d3a73d",
   "metadata": {},
   "outputs": [
    {
     "data": {
      "text/html": [
       "<div>\n",
       "<style scoped>\n",
       "    .dataframe tbody tr th:only-of-type {\n",
       "        vertical-align: middle;\n",
       "    }\n",
       "\n",
       "    .dataframe tbody tr th {\n",
       "        vertical-align: top;\n",
       "    }\n",
       "\n",
       "    .dataframe thead th {\n",
       "        text-align: right;\n",
       "    }\n",
       "</style>\n",
       "<table border=\"1\" class=\"dataframe\">\n",
       "  <thead>\n",
       "    <tr style=\"text-align: right;\">\n",
       "      <th></th>\n",
       "      <th>top_scorer</th>\n",
       "      <th>highscore</th>\n",
       "    </tr>\n",
       "  </thead>\n",
       "  <tbody>\n",
       "    <tr>\n",
       "      <th>65</th>\n",
       "      <td>Quinton de Kock</td>\n",
       "      <td>140</td>\n",
       "    </tr>\n",
       "  </tbody>\n",
       "</table>\n",
       "</div>"
      ],
      "text/plain": [
       "         top_scorer  highscore\n",
       "65  Quinton de Kock        140"
      ]
     },
     "execution_count": 19,
     "metadata": {},
     "output_type": "execute_result"
    }
   ],
   "source": [
    "    df[df['highscore'] == df['highscore'].max()][['top_scorer', 'highscore']]"
   ]
  },
  {
   "cell_type": "markdown",
   "id": "8504e7bf-5d54-4e1f-8d8b-4054df1fd5fd",
   "metadata": {},
   "source": [
    "Q3: Which bowler had the best bowling figures?"
   ]
  },
  {
   "cell_type": "code",
   "execution_count": 20,
   "id": "c03ea3d0-80d8-4982-9710-5fc113f19d48",
   "metadata": {},
   "outputs": [
    {
     "data": {
      "text/html": [
       "<div>\n",
       "<style scoped>\n",
       "    .dataframe tbody tr th:only-of-type {\n",
       "        vertical-align: middle;\n",
       "    }\n",
       "\n",
       "    .dataframe tbody tr th {\n",
       "        vertical-align: top;\n",
       "    }\n",
       "\n",
       "    .dataframe thead th {\n",
       "        text-align: right;\n",
       "    }\n",
       "</style>\n",
       "<table border=\"1\" class=\"dataframe\">\n",
       "  <thead>\n",
       "    <tr style=\"text-align: right;\">\n",
       "      <th></th>\n",
       "      <th>best_bowling</th>\n",
       "      <th>best_bowling_figure</th>\n",
       "    </tr>\n",
       "  </thead>\n",
       "  <tbody>\n",
       "    <tr>\n",
       "      <th>29</th>\n",
       "      <td>Yuzvendra Chahal</td>\n",
       "      <td>5--40</td>\n",
       "    </tr>\n",
       "    <tr>\n",
       "      <th>39</th>\n",
       "      <td>Umran Malik</td>\n",
       "      <td>5--25</td>\n",
       "    </tr>\n",
       "    <tr>\n",
       "      <th>53</th>\n",
       "      <td>Wanindu Hasaranga</td>\n",
       "      <td>5--18</td>\n",
       "    </tr>\n",
       "    <tr>\n",
       "      <th>55</th>\n",
       "      <td>Jasprit Bumrah</td>\n",
       "      <td>5--10</td>\n",
       "    </tr>\n",
       "  </tbody>\n",
       "</table>\n",
       "</div>"
      ],
      "text/plain": [
       "         best_bowling best_bowling_figure\n",
       "29   Yuzvendra Chahal               5--40\n",
       "39        Umran Malik               5--25\n",
       "53  Wanindu Hasaranga               5--18\n",
       "55     Jasprit Bumrah               5--10"
      ]
     },
     "execution_count": 20,
     "metadata": {},
     "output_type": "execute_result"
    }
   ],
   "source": [
    "df[df['highest_wickets'] == df['highest_wickets'].max()][['best_bowling', 'best_bowling_figure']]"
   ]
  },
  {
   "cell_type": "markdown",
   "id": "680e5385-687f-43e9-9f2f-4384ddc08925",
   "metadata": {},
   "source": [
    "# Good Work"
   ]
  }
 ],
 "metadata": {
  "kernelspec": {
   "display_name": "Python 3 (ipykernel)",
   "language": "python",
   "name": "python3"
  },
  "language_info": {
   "codemirror_mode": {
    "name": "ipython",
    "version": 3
   },
   "file_extension": ".py",
   "mimetype": "text/x-python",
   "name": "python",
   "nbconvert_exporter": "python",
   "pygments_lexer": "ipython3",
   "version": "3.12.7"
  },
  "widgets": {
   "application/vnd.jupyter.widget-state+json": {
    "state": {},
    "version_major": 2,
    "version_minor": 0
   }
  }
 },
 "nbformat": 4,
 "nbformat_minor": 5
}
